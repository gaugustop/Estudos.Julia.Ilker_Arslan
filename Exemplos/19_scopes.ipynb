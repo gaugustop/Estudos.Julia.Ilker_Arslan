{
 "cells": [
  {
   "cell_type": "markdown",
   "metadata": {},
   "source": [
    "## Scopes\n",
    "\n",
    "| Construct | Scope type | Allowed within |\n",
    "| --- | --- | --- |\n",
    "| module, baremodule | global | global |\n",
    "| struct\t                    |  local (soft)\t|global |\n",
    "| for, while, try\t           |   local (soft)|\tglobal, local |\n",
    "| macro\t                     | local (hard)\t| global |\n",
    "| functions, do blocks,      |   local (hard)|\tglobal, local |\n",
    "| let blocks, comprehensions,|   local (hard)|\tglobal, local |\n",
    "| generators\t                |  local (hard)\t|global, local |\n",
    "\n",
    "<p>\n",
    "When x = value occurs in a local scope, Julia applies the following rules to decide what the expression means based on where the assignment expression occurs and what x already refers to at that location:\n",
    "</p>\n",
    "\n",
    "1. Existing local: If x is already a local variable, then the existing local x is assigned;\n",
    "\n",
    "2. Hard scope: If x is not already a local variable and assignment occurs inside of any hard scope construct (i.e. within a let block, function or macro body, comprehension, or generator), a new local named x is created in the scope of the assignment;\n",
    "\n",
    "3. Soft scope: If x is not already a local variable and all of the scope constructs containing the assignment are soft scopes (loops, try/catch blocks, or struct blocks), the behavior depends on whether the global variable x is defined:\n",
    "\n",
    "   * if global x is undefined, a new local named x is created in the scope of the assignment;\n",
    "   \n",
    "   * if global x is defined, the assignment is considered ambiguous:\n",
    "      \n",
    "      - in non-interactive contexts (files, eval), an ambiguity warning is printed and a new local is created;\n",
    "      \n",
    "      - in interactive contexts (REPL, notebooks), the global variable x is assigned.\n"
   ]
  },
  {
   "cell_type": "code",
   "execution_count": 5,
   "metadata": {},
   "outputs": [
    {
     "name": "stdout",
     "output_type": "stream",
     "text": [
      "x = 2\n",
      "x = 2\n"
     ]
    }
   ],
   "source": [
    "#begin e if nao introduzem um escopo local\n",
    "x = 1;\n",
    "begin \n",
    "    x = 2;\n",
    "    @show x;\n",
    "end\n",
    "@show x;"
   ]
  },
  {
   "cell_type": "code",
   "execution_count": 7,
   "metadata": {},
   "outputs": [
    {
     "name": "stdout",
     "output_type": "stream",
     "text": [
      "x = 2\n",
      "x = 1\n"
     ]
    }
   ],
   "source": [
    "#exceto se explicitamente escrito\n",
    "x = 1;\n",
    "begin \n",
    "    local x = 2;\n",
    "    @show x;\n",
    "end\n",
    "@show x;"
   ]
  },
  {
   "cell_type": "code",
   "execution_count": 16,
   "metadata": {},
   "outputs": [
    {
     "name": "stdout",
     "output_type": "stream",
     "text": [
      "x = 1\n",
      "x = 4\n",
      "x = 7\n",
      "x = 10\n"
     ]
    }
   ],
   "source": [
    "#for, while e try introduzem escopos locais (soft), \n",
    "# mas no REPL e Notebook o funcionamento é diferente\n",
    "x = nothing;\n",
    "x = 1;\n",
    "for i in 1:3\n",
    "    @show x\n",
    "    x += 3;\n",
    "end\n",
    "@show x;"
   ]
  },
  {
   "cell_type": "code",
   "execution_count": null,
   "metadata": {},
   "outputs": [],
   "source": []
  }
 ],
 "metadata": {
  "kernelspec": {
   "display_name": "Julia 1.7.3",
   "language": "julia",
   "name": "julia-1.7"
  },
  "language_info": {
   "file_extension": ".jl",
   "mimetype": "application/julia",
   "name": "julia",
   "version": "1.7.3"
  },
  "orig_nbformat": 4
 },
 "nbformat": 4,
 "nbformat_minor": 2
}
